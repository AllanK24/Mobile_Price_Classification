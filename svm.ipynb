{
 "cells": [
  {
   "cell_type": "code",
   "execution_count": null,
   "metadata": {},
   "outputs": [],
   "source": [
    "import pandas as pd"
   ]
  },
  {
   "cell_type": "code",
   "execution_count": null,
   "metadata": {},
   "outputs": [],
   "source": [
    "#Load the dataset\n",
    "X = pd.read_csv(r\"C:\\Users\\Windows 10\\Desktop\\mobile_price_classification\\dataset\\train.csv\")\n",
    "y = X[\"price_range\"]\n",
    "X = X.drop([\"price_range\"],axis=1)"
   ]
  },
  {
   "cell_type": "code",
   "execution_count": null,
   "metadata": {},
   "outputs": [],
   "source": [
    "from sklearn.preprocessing import StandardScaler\n",
    "\"\"\"\n",
    "Applying Feature scaling\n",
    "Features to be scaled:\n",
    "    --battery_power\n",
    "    --px_height\n",
    "    --px_width\n",
    "    --ram\n",
    "\"\"\"\n",
    "#Choosing features for scaling\n",
    "scale = X[[\"battery_power\",\"px_height\",\"px_width\",\"ram\"]].copy()\n",
    "print(scale.describe())\n",
    "\n",
    "#Scale features\n",
    "scaler = StandardScaler()\n",
    "scaler.fit_transform(scale)\n",
    "scale = scaler.transform(scale)\n",
    "print(scale)"
   ]
  },
  {
   "cell_type": "code",
   "execution_count": null,
   "metadata": {},
   "outputs": [],
   "source": [
    "#Replacing with the scaled data\n",
    "X[\"battery_power\"] = scale[:,0]\n",
    "X[\"px_height\"] = scale[:,1]\n",
    "X[\"px_width\"] = scale[:,2]\n",
    "X[\"ram\"] = scale[:,3]\n",
    "\n",
    "print(\"After scaling:\")\n",
    "X.describe()"
   ]
  },
  {
   "cell_type": "code",
   "execution_count": null,
   "metadata": {},
   "outputs": [],
   "source": [
    "#Splitting into training and validation sets\n",
    "X_train = X[:1800]\n",
    "X_val = X[1800:]\n",
    "y_train = y[:1800]\n",
    "y_val = y[1800:]"
   ]
  },
  {
   "cell_type": "code",
   "execution_count": null,
   "metadata": {},
   "outputs": [],
   "source": [
    "#Defining a Support Vector Machine\n",
    "from sklearn.svm import SVC\n",
    "svm_c = SVC()"
   ]
  },
  {
   "cell_type": "code",
   "execution_count": null,
   "metadata": {},
   "outputs": [],
   "source": [
    "#Instantiating GridSearchCV with hyperparameter grid\n",
    "from sklearn.model_selection import GridSearchCV\n",
    "\n",
    "param_grid = {\n",
    "    \n",
    "}\n",
    "\n",
    "grid_search = GridSearchCV(ran_forest,param_grid,cv=20)"
   ]
  }
 ],
 "metadata": {
  "language_info": {
   "name": "python"
  }
 },
 "nbformat": 4,
 "nbformat_minor": 2
}
